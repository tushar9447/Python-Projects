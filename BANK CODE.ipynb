{
 "cells": [
  {
   "cell_type": "code",
   "execution_count": null,
   "id": "388bd540",
   "metadata": {},
   "outputs": [],
   "source": [
    "# Bank\n",
    "class Bank:\n",
    "    def __init__(self):\n",
    "        self.balance=10000\n",
    "        \n",
    "    def deposit(self,deposit_amount):\n",
    "        self.deposit_amount = deposit_amount\n",
    "        self.balance += self.deposit_amount\n",
    "        print(f\"Total Balance : {self.balance}\")\n",
    "    \n",
    "    def withdrawl(self,withdrawl_amount):\n",
    "        self.withdrawl_amount = withdrawl_amount\n",
    "        self.balance -= self.withdrawl_amount\n",
    "        print(f\"Total Balance : {self.balance}\")\n",
    "        \n",
    "    def show(self):\n",
    "        print(f\"Total Balance : {self.balance}\")\n",
    "              \n",
    "              \n",
    "d=Bank()\n",
    "while True:\n",
    "    choice=int(input(f\" Press 1: Deposit Amount \\n Press 2: Withdrawl Amount \\n Press 3: Show Balance \"))\n",
    "    if (choice == 1):\n",
    "        amount = int(input(\"Enter Amount you want to deposit:\"))\n",
    "        d.deposit(amount)\n",
    "\n",
    "    elif (choice == 2):\n",
    "        amount = int(input(\"Enter Amount you want to Withdrawl:\"))\n",
    "        d.withdrawl(amount)        \n",
    "\n",
    "    elif (choice == 3):\n",
    "        d.show() \n",
    "\n",
    "    else:\n",
    "        print(\"Wrong choice\")"
   ]
  },
  {
   "cell_type": "code",
   "execution_count": null,
   "id": "0582d1f1",
   "metadata": {},
   "outputs": [],
   "source": []
  }
 ],
 "metadata": {
  "kernelspec": {
   "display_name": "Python 3 (ipykernel)",
   "language": "python",
   "name": "python3"
  },
  "language_info": {
   "codemirror_mode": {
    "name": "ipython",
    "version": 3
   },
   "file_extension": ".py",
   "mimetype": "text/x-python",
   "name": "python",
   "nbconvert_exporter": "python",
   "pygments_lexer": "ipython3",
   "version": "3.10.5"
  }
 },
 "nbformat": 4,
 "nbformat_minor": 5
}
