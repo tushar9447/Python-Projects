{
 "cells": [
  {
   "cell_type": "code",
   "execution_count": null,
   "id": "a9d5dae2",
   "metadata": {},
   "outputs": [],
   "source": [
    "class Character():\n",
    "    def _init_(self,name):\n",
    "        self.name=name\n",
    "        self.__life = 3\n",
    "        self.__score = 0\n",
    "        \n",
    "    def Kicked(self):\n",
    "        self.__score += 10\n",
    "    def Punched(self):\n",
    "        self.__score += 5\n",
    "    def Stabbed(self):\n",
    "        self.__life -= 1\n",
    "        \n",
    "    def Display_life(self):\n",
    "        return (self.__life)\n",
    "    def Display_score(self):\n",
    "        return (self.__score)\n",
    "    \n",
    "Mario= Character(\"Don\")\n",
    "Mario.Kicked()\n",
    "Mario.Stabbed()\n",
    "Mario.Punched()\n",
    "Mario.Stabbed()\n",
    "\n",
    "life=Mario.Display_life()\n",
    "print(\"LIFE :\" ,life)\n",
    "\n",
    "score=Mario.Display_score()\n",
    "print(\"SCORE :\" ,score)"
   ]
  }
 ],
 "metadata": {
  "kernelspec": {
   "display_name": "Python 3 (ipykernel)",
   "language": "python",
   "name": "python3"
  },
  "language_info": {
   "codemirror_mode": {
    "name": "ipython",
    "version": 3
   },
   "file_extension": ".py",
   "mimetype": "text/x-python",
   "name": "python",
   "nbconvert_exporter": "python",
   "pygments_lexer": "ipython3",
   "version": "3.9.7"
  }
 },
 "nbformat": 4,
 "nbformat_minor": 5
}
