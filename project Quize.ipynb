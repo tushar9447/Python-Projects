{
 "cells": [
  {
   "cell_type": "code",
   "execution_count": null,
   "id": "dbfd8ecb",
   "metadata": {},
   "outputs": [],
   "source": [
    "#quize project\n",
    "questions = [\"Q1\",\"Q2\",\"Q3\",\"Q4\",\"Q5\"]\n",
    "\n",
    "options = [\"Q1_A\",\"Q1_B\",\"Q2_A\",\"Q2_B\",\"Q3_A\",\"Q3_B\",\"Q4_A\",\"Q4_B\",\"Q5_A\",\"Q5_B\"]\n",
    "\n",
    "correct_answers = {\"Q1\":\"Q1_A\",\"Q2\":\"Q2_A\",\"Q3\":\"Q3_A\",\"Q4\":\"Q4_A\",\"Q5\":\"Q5_A\"}\n",
    "\n",
    "op={}\n",
    "count=0\n",
    "score = 0\n",
    "\n",
    "for i in questions:\n",
    "    print()\n",
    "    print(i)\n",
    "    temp = 1\n",
    "    \n",
    "    for j in range(count,count+2):\n",
    "\n",
    "        print(f\"{temp} -- > {options[j]}\")\n",
    "        op[temp] = options[j]\n",
    "        # print(op)\n",
    "\n",
    "        if (temp == 2):\n",
    "            usr_input = int(input(\"enter your choice : \"))\n",
    "\n",
    "            UA = (op[usr_input])\n",
    "            CA = (correct_answers[i])\n",
    "\n",
    "            if(UA == CA):\n",
    "                print(\"*********************\")\n",
    "                print (\"** Correct Answer **\")\n",
    "                print(\"*********************\")\n",
    "                score += 1\n",
    "            else:\n",
    "                print(\"********************\")\n",
    "                print(\"*** Wrong Answer ***\")\n",
    "                print(\"********************\")\n",
    "\n",
    "\n",
    "        temp += 1\n",
    "        count += 1\n",
    "print()\n",
    "print(\"====================\")\n",
    "print(f\"Score : {score}/5\")\n",
    "print(\"====================\")\n",
    "\n"
   ]
  },
  {
   "cell_type": "code",
   "execution_count": null,
   "id": "738c978e",
   "metadata": {},
   "outputs": [],
   "source": []
  }
 ],
 "metadata": {
  "kernelspec": {
   "display_name": "Python 3 (ipykernel)",
   "language": "python",
   "name": "python3"
  },
  "language_info": {
   "codemirror_mode": {
    "name": "ipython",
    "version": 3
   },
   "file_extension": ".py",
   "mimetype": "text/x-python",
   "name": "python",
   "nbconvert_exporter": "python",
   "pygments_lexer": "ipython3",
   "version": "3.10.5"
  }
 },
 "nbformat": 4,
 "nbformat_minor": 5
}
