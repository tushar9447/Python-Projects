{
 "cells": [
  {
   "cell_type": "code",
   "execution_count": null,
   "id": "ded04160",
   "metadata": {},
   "outputs": [],
   "source": [
    "# 1] What is Exception? Implement ZeroDivisionError with the same?\n",
    "# Ans:\n",
    "#    1:It is event which needs to be handled explicitily which may occur\n",
    "#      during runtime of the program and terminates the flow/execution of \n",
    "#      program.\n",
    "#    2:An Exception is handled using the keyword \"except\"\n",
    "#    3:If we dont know what type of exception may occur we can use \n",
    "#      \"except Exception\"\n",
    "#    4:If an Error/Exception does not occur in the try block the else  \n",
    "#      block will be executed.\n",
    "\n",
    "# Syntax:\n",
    "# \ttry:\n",
    "# \t     #code\n",
    "# \texcept:\n",
    "# \t     #Executed if error in the \n",
    "# \t\ttry block\n",
    "# \telse:\n",
    "# \t     #Executed if no error is occured\n",
    "\n",
    "# Types of Exception may Occur:\n",
    "# 1:Invalid User Input\n",
    "# 2:Opening and Unavailable file\n",
    "# 3:ZeroDivisionError"
   ]
  },
  {
   "cell_type": "code",
   "execution_count": null,
   "id": "3d8cc271",
   "metadata": {},
   "outputs": [],
   "source": [
    "try:\n",
    "    num1=int(input(\"Enter Number 1 :\"))\n",
    "    num2=int(input(\"Enter Number 2 :\"))\n",
    "    print(\"Division = \",num1/num2)\n",
    "    \n",
    "except ZeroDivisionError as e:\n",
    "    print(\"\\nERROR OCCURED :\",e)\n",
    "else:\n",
    "    print(\"\\nNo Exception Ocurred\")\n",
    "finally:\n",
    "    print(\"\\nExecution Done\")"
   ]
  },
  {
   "cell_type": "code",
   "execution_count": null,
   "id": "74ce4bc8",
   "metadata": {},
   "outputs": [],
   "source": [
    "# 2] How to raise CustomException? Implement the code with same.\n",
    "# Raise:\n",
    "#     1:We can raise an custom exception by using keyword \"raise\" followed by an \n",
    "#      \"Exception(Description)\"\n",
    "#     eg: raise Exception(\"Description of an exception\")"
   ]
  },
  {
   "cell_type": "code",
   "execution_count": null,
   "id": "6aa38727",
   "metadata": {},
   "outputs": [],
   "source": [
    "# user defined exception\n",
    "\n",
    "def check_age(age):\n",
    "    if (age>=18):\n",
    "        return(\"You are eligible to vote\")\n",
    "    else:\n",
    "        return(\"You are Under Age\")\n",
    "    \n",
    "try:\n",
    "    user=int(input(\"Enter Your Age :\"))\n",
    "    var=check_age(user)\n",
    "\n",
    "except Exception as e:\n",
    "    print(\"Error :\",e)\n",
    "    \n",
    "else:\n",
    "    print(var)"
   ]
  },
  {
   "cell_type": "code",
   "execution_count": null,
   "id": "2c56f578",
   "metadata": {},
   "outputs": [],
   "source": [
    "# WAP to explain raise keyword proper comments with notes\n",
    "# Raise:\n",
    "#     1:We can raise an custom exception by using keyword \"raise\" followed by an \n",
    "#      \"Exception(Description)\"\n",
    "#     eg: raise Exception(\"Description of an exception\")"
   ]
  },
  {
   "cell_type": "code",
   "execution_count": null,
   "id": "8990739a",
   "metadata": {},
   "outputs": [],
   "source": [
    "# user defined exception\n",
    "\n",
    "def check_age(age):                              # Function checking age\n",
    "    if (age>=18):                                # If (age>18) then it will return \"You are eligible to vote\"\n",
    "        return(\"You are eligible to vote\")       \n",
    "    else:                                        # If (age<18) then \"Exception\" will be raised\n",
    "        raise Exception(\"You are Under Age\")     # An Exception is raised using \"raised\" keyword\n",
    "    \n",
    "try:\n",
    "    user=int(input(\"Enter Your Age :\"))          # Take age from user\n",
    "    var=check_age(user)                          # Passing check_age function and passing user's age\n",
    "\n",
    "except Exception as e:                           # If user (age<18) above raised \"Exception\" will be caught\n",
    "    print(\"Error :\",e)                           # Printing the Exception with Desc\n",
    "    \n",
    "else:\n",
    "    print(var)                                   # If users (age>18)no exception is occured,so else block will be executed"
   ]
  },
  {
   "cell_type": "code",
   "execution_count": 1,
   "id": "ad105d9d",
   "metadata": {},
   "outputs": [
    {
     "name": "stdout",
     "output_type": "stream",
     "text": [
      "Enter Number 1 :10\n",
      "Enter Number 2 :0\n",
      "\n",
      "ZeroDivisionError occured : Division by Zero Not Possible\n",
      "add : 10\n",
      "sub : 10\n",
      "div : Division Zero is Not Possible\n",
      "mul : 0\n",
      "\n",
      "Execution Completed\n"
     ]
    }
   ],
   "source": [
    "#WAP to  multiple except in one try with proper comments and notes\n",
    "try:\n",
    "    num1=int(input(\"Enter Number 1 :\"))   # user input num1 (int)\n",
    "    num2=int(input(\"Enter Number 2 :\"))   # user input num2 (int)\n",
    "    \n",
    "    add = num1 + num2       # adding num1 & num2\n",
    "    sub = num1 - num2       # subtracting num1 & num2\n",
    "    div = num1 // num2       # dividing num1 & num2\n",
    "    mul = num1 * num2       # multiplying num1 & num2\n",
    "    \n",
    "# If input is (String) then exception will be caught/handle here\n",
    "except ValueError as e:\n",
    "    print(\"\\nValueError Occured : Alphabet has be entered \")\n",
    "    \n",
    "#If we comment \"y\" in try block we will get NameError which is caught/handled here\n",
    "except NameError as e:\n",
    "    print(\"\\nName Error Occured : Variable not found\")\n",
    "    y=2\n",
    "    add = num1 + num2      \n",
    "    sub = num1 - num2       \n",
    "    div = num1 // num2       \n",
    "    mul = num1 * num2 \n",
    "    \n",
    "    print(\"add :\",add)\n",
    "    print(\"sub :\",sub)\n",
    "    print(\"div :\",div)\n",
    "    print(\"mul :\",mul)\n",
    "    \n",
    "# If user enter \"y=0\" then division is not possible as a result \"ZeroDivisionError\" will be raised and handled here\n",
    "except ZeroDivisionError as e:\n",
    "    print(\"\\nZeroDivisionError occured : Division by Zero Not Possible\")\n",
    "    div = \"Division Zero is Not Possible\"\n",
    "    mul = num1 * num2\n",
    "    \n",
    "    print(\"add :\",add)\n",
    "    print(\"sub :\",sub)\n",
    "    print(\"div :\",div)\n",
    "    print(\"mul :\",mul)\n",
    "    \n",
    "# If any of the execution is not occured then else block will be excecuted\n",
    "else:\n",
    "    print(\"add :\",add)\n",
    "    print(\"sub :\",sub)\n",
    "    print(\"div :\",div)\n",
    "    print(\"mul :\",mul)\n",
    "\n",
    "# Finally block will be executed even if the exeception is \"raised\" or \"not\"\n",
    "finally:\n",
    "    print(\"\\nExecution Completed\")"
   ]
  },
  {
   "cell_type": "code",
   "execution_count": null,
   "id": "14d42651",
   "metadata": {},
   "outputs": [],
   "source": []
  }
 ],
 "metadata": {
  "kernelspec": {
   "display_name": "Python 3 (ipykernel)",
   "language": "python",
   "name": "python3"
  },
  "language_info": {
   "codemirror_mode": {
    "name": "ipython",
    "version": 3
   },
   "file_extension": ".py",
   "mimetype": "text/x-python",
   "name": "python",
   "nbconvert_exporter": "python",
   "pygments_lexer": "ipython3",
   "version": "3.9.7"
  }
 },
 "nbformat": 4,
 "nbformat_minor": 5
}
