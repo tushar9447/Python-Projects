{
 "cells": [
  {
   "cell_type": "code",
   "execution_count": 1,
   "id": "78e9c10c",
   "metadata": {},
   "outputs": [],
   "source": [
    "import string\n",
    "import random\n",
    "\n",
    "alphabets = list(string.ascii_letters)\n",
    "digits = list(string.digits)\n",
    "special_characters = list(\"!@#$%^&*()\")\n",
    "characters = list(string.ascii_letters + string.digits + \"!@#$%^&*()\")\n",
    "\n",
    "\n",
    "def generate_random_password():\n",
    "    length = int(input(\"Enter password length: \"))\n",
    "    \n",
    "    alphabets_count = int(input(\"Enter alphabets count in password: \"))\n",
    "    digits_count = int(input(\"Enter digits count in password: \"))\n",
    "    special_characters_count = int(input(\"Enter special characters count in password: \"))\n",
    "\n",
    "    characters_count = alphabets_count + digits_count + special_characters_count\n",
    "    \n",
    "    if characters_count > length:\n",
    "        print(\"Characters total count is greater than the password length\")\n",
    "        return\n",
    "\n",
    "    password = []\n",
    "    \n",
    "    for i in range(alphabets_count):\n",
    "        password.append(random.choice(alphabets))\n",
    "    \n",
    "    \n",
    "    for i in range(digits_count):\n",
    "        password.append(random.choice(digits))\n",
    "    \n",
    "    for i in range(special_characters_count):\n",
    "        password.append(random.choice(special_characters))   \n",
    "    \n",
    "    if characters_count < length:\n",
    "        random.shuffle(characters)\n",
    "        for i in range(length - characters_count):\n",
    "            password.append(random.choice(characters))\n",
    "            \n",
    "    random.shuffle(password)     \n",
    "    print(\"\".join(password))\n",
    "    \n",
    "    generate_random_password()        "
   ]
  },
  {
   "cell_type": "code",
   "execution_count": null,
   "id": "d8f1f34e",
   "metadata": {},
   "outputs": [],
   "source": []
  }
 ],
 "metadata": {
  "kernelspec": {
   "display_name": "Python 3 (ipykernel)",
   "language": "python",
   "name": "python3"
  },
  "language_info": {
   "codemirror_mode": {
    "name": "ipython",
    "version": 3
   },
   "file_extension": ".py",
   "mimetype": "text/x-python",
   "name": "python",
   "nbconvert_exporter": "python",
   "pygments_lexer": "ipython3",
   "version": "3.9.7"
  }
 },
 "nbformat": 4,
 "nbformat_minor": 5
}
