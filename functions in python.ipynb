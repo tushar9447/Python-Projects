{
 "cells": [
  {
   "cell_type": "code",
   "execution_count": null,
   "id": "ae77970d",
   "metadata": {},
   "outputs": [],
   "source": [
    "#WAP  to create function of prime no\n",
    "def prime(n):\n",
    "    count = 1\n",
    "    for i in range(2,n+1):\n",
    "        if(n % i == 0):\n",
    "            count=count+1\n",
    "    \n",
    "    if (count <= 2):\n",
    "        print(f\"{n} is a Prime Number\")\n",
    "    else:\n",
    "        print(f\"{n} is a not a Prime Number\")\n",
    "        \n",
    "prime(int(input(\"Enter a number to check it is prime or not :\")))"
   ]
  },
  {
   "cell_type": "code",
   "execution_count": null,
   "id": "1bfa99e0",
   "metadata": {},
   "outputs": [],
   "source": []
  },
  {
   "cell_type": "code",
   "execution_count": null,
   "id": "1a3c48b4",
   "metadata": {},
   "outputs": [],
   "source": [
    "#Create a function to calculate the the area of triangle"
   ]
  },
  {
   "cell_type": "code",
   "execution_count": null,
   "id": "07aaa5eb",
   "metadata": {},
   "outputs": [],
   "source": [
    "def area_of_triangle(base,height):\n",
    "    area=0.5*base*height\n",
    "    print(f\"Area of Triangle : {area}\")\n",
    "    \n",
    "b=int(input(\"Enter Base :\"))\n",
    "h=int(input(\"Enter Height :\"))\n",
    "area_of_triangle(b,h)"
   ]
  },
  {
   "cell_type": "code",
   "execution_count": null,
   "id": "5c44e257",
   "metadata": {},
   "outputs": [],
   "source": []
  },
  {
   "cell_type": "code",
   "execution_count": null,
   "id": "eeef23a9",
   "metadata": {},
   "outputs": [],
   "source": []
  },
  {
   "cell_type": "code",
   "execution_count": null,
   "id": "e6bda986",
   "metadata": {},
   "outputs": [],
   "source": [
    "#Addition and SUbtraction in 1 statment"
   ]
  },
  {
   "cell_type": "code",
   "execution_count": null,
   "id": "33f7ae9a",
   "metadata": {},
   "outputs": [],
   "source": [
    "def calculation(n1,n2):\n",
    "    add = n1 + n2\n",
    "    sub = n2 - n1\n",
    "    return add,sub\n",
    "\n",
    "res=calculation(10,20)\n",
    "print(f\" Addition and Subtraction of number is : {res[0]},{res[1]} \")"
   ]
  },
  {
   "cell_type": "code",
   "execution_count": null,
   "id": "e56acd57",
   "metadata": {},
   "outputs": [],
   "source": []
  },
  {
   "cell_type": "code",
   "execution_count": null,
   "id": "ce80a07f",
   "metadata": {},
   "outputs": [],
   "source": []
  },
  {
   "cell_type": "markdown",
   "id": "24ad7dca",
   "metadata": {},
   "source": [
    "# 1:*args (Non Keyword Arguments):\n",
    " Python has *args which allow us to pass the variable number of non keyword arguments to function.\n",
    " In the function, we should use an asterisk * before the parameter name to pass variable length arguments.\n",
    " The arguments are passed as a tuple and these passed arguments make tuple inside the function \n",
    " with same name as the parameter excluding asterisk *."
   ]
  },
  {
   "cell_type": "code",
   "execution_count": null,
   "id": "03d20312",
   "metadata": {},
   "outputs": [],
   "source": [
    "#we used *num as a parameter which allows us to pass variable length argument list to the adder() function.\n",
    "def adder(*num):\n",
    "    sum = 0\n",
    "    \n",
    "    for n in num:\n",
    "        sum = sum + n\n",
    "\n",
    "    print(\"Sum:\",sum)\n",
    "\n",
    "adder(3,5)\n",
    "adder(4,5,6,7)\n",
    "adder(1,2,3,5,6)"
   ]
  },
  {
   "cell_type": "markdown",
   "id": "7e3e8fce",
   "metadata": {},
   "source": [
    "# 2: **kwargs (Keyword Arguments):\n",
    "Python passes variable length non keyword argument to function using *args but we cannot use this to pass keyword argument.\n",
    "For this problem Python has got a solution called **kwargs, it allows us to pass the variable length of keyword arguments\n",
    "to the function.\n",
    "we use the double asterisk ** before the parameter name to denote this type of argument. \n",
    "The arguments are passed as a dictionary and these arguments make a dictionary inside function with name same as \n",
    "the parameter excluding double asterisk **.\n"
   ]
  },
  {
   "cell_type": "code",
   "execution_count": null,
   "id": "2a9e7ec3",
   "metadata": {},
   "outputs": [],
   "source": [
    "def myFun(**kwargs):\n",
    "    for key, value in kwargs.items():\n",
    "        print (\"%s == %s\" %(key, value))\n",
    " \n",
    "\n",
    "myFun(first ='Geeks', mid ='for', last='Geeks')    "
   ]
  },
  {
   "cell_type": "code",
   "execution_count": null,
   "id": "96376177",
   "metadata": {},
   "outputs": [],
   "source": [
    "*args and **kwargs are special keyword which allows function to take variable length argument.\n",
    "*args passes variable number of non-keyworded arguments and on which operation of the tuple can be performed.\n",
    "**kwargs passes variable number of keyword arguments dictionary to function on which operation of a dictionary can be performed.\n",
    "*args and **kwargs make the function flexible."
   ]
  },
  {
   "cell_type": "code",
   "execution_count": null,
   "id": "e3a75cfd",
   "metadata": {},
   "outputs": [],
   "source": []
  },
  {
   "cell_type": "code",
   "execution_count": null,
   "id": "75ae9178",
   "metadata": {},
   "outputs": [],
   "source": []
  },
  {
   "cell_type": "code",
   "execution_count": null,
   "id": "cb560294",
   "metadata": {},
   "outputs": [],
   "source": []
  },
  {
   "cell_type": "code",
   "execution_count": 2,
   "id": "4057f7b5",
   "metadata": {},
   "outputs": [
    {
     "name": "stdout",
     "output_type": "stream",
     "text": [
      "The lyrics are good!\n",
      "The lyrics are poor!\n"
     ]
    }
   ],
   "source": [
    "def not_poor(str1):\n",
    "  snot = str1.find('not')\n",
    "  spoor = str1.find('poor')\n",
    "  \n",
    "\n",
    "  if spoor > snot and snot>0 and spoor>0:\n",
    "    str1 = str1.replace(str1[snot:(spoor+4)], 'good')\n",
    "    return str1\n",
    "  else:\n",
    "    return str1\n",
    "print(not_poor('The lyrics are not that poor!'))\n",
    "print(not_poor('The lyrics are poor!'))"
   ]
  },
  {
   "cell_type": "code",
   "execution_count": 3,
   "id": "c9301140",
   "metadata": {},
   "outputs": [
    {
     "name": "stdout",
     "output_type": "stream",
     "text": [
      "The lyrics is good!\n"
     ]
    }
   ],
   "source": [
    "def not_poor(str1):  \n",
    "  snot = str1.find('not')  \n",
    "  sbad = str1.find('poor')  \n",
    "  \n",
    "  if sbad > snot:  \n",
    "    str1 = str1.replace(str1[snot:(sbad+4)], 'good')  \n",
    "  \n",
    "  return str1  \n",
    "print(not_poor('The lyrics is not that poor!')) "
   ]
  },
  {
   "cell_type": "code",
   "execution_count": null,
   "id": "b8aa94b0",
   "metadata": {},
   "outputs": [],
   "source": []
  },
  {
   "cell_type": "code",
   "execution_count": null,
   "id": "289a5d50",
   "metadata": {},
   "outputs": [],
   "source": []
  },
  {
   "cell_type": "code",
   "execution_count": null,
   "id": "ccdc0267",
   "metadata": {},
   "outputs": [],
   "source": []
  },
  {
   "cell_type": "code",
   "execution_count": 5,
   "id": "9487d47b",
   "metadata": {},
   "outputs": [
    {
     "name": "stdout",
     "output_type": "stream",
     "text": [
      "Highest :  {'banana': 8}\n"
     ]
    }
   ],
   "source": [
    "def itemwithHighestValue(items):\n",
    "    max_name = \"\"\n",
    "    max_count = 0\n",
    "    for i in items:\n",
    "        for j in i:\n",
    "            if(i[j] > max_count):\n",
    "                max_name = i \n",
    "                max_count = i[j]\n",
    "    return max_name\n",
    "\n",
    "items = [{'apple': 5}, {'banana': 8}, {'orange': 7}, {'grapes': 4}]\n",
    "\n",
    "res_value = itemwithHighestValue(items)\n",
    "print(\"Highest : \", res_value)"
   ]
  },
  {
   "cell_type": "code",
   "execution_count": null,
   "id": "75cacf0b",
   "metadata": {},
   "outputs": [],
   "source": []
  }
 ],
 "metadata": {
  "kernelspec": {
   "display_name": "Python 3 (ipykernel)",
   "language": "python",
   "name": "python3"
  },
  "language_info": {
   "codemirror_mode": {
    "name": "ipython",
    "version": 3
   },
   "file_extension": ".py",
   "mimetype": "text/x-python",
   "name": "python",
   "nbconvert_exporter": "python",
   "pygments_lexer": "ipython3",
   "version": "3.9.7"
  }
 },
 "nbformat": 4,
 "nbformat_minor": 5
}
